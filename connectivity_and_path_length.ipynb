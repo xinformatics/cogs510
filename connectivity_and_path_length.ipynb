{
 "cells": [
  {
   "cell_type": "code",
   "execution_count": 3,
   "id": "ffdc813d-9daf-4197-926c-23b3c584d307",
   "metadata": {},
   "outputs": [],
   "source": [
    "import numpy as np\n",
    "from scipy.ndimage import binary_dilation\n",
    "\n",
    "from dipy.core.gradients import gradient_table\n",
    "from dipy.data import get_fnames\n",
    "from dipy.io.gradients import read_bvals_bvecs\n",
    "from dipy.io.image import load_nifti_data, load_nifti, save_nifti\n",
    "from dipy.direction import peaks\n",
    "from dipy.reconst import shm\n",
    "from dipy.tracking import utils\n",
    "from dipy.tracking.local_tracking import LocalTracking\n",
    "from dipy.tracking.stopping_criterion import BinaryStoppingCriterion\n",
    "from dipy.tracking.streamline import Streamlines"
   ]
  },
  {
   "cell_type": "code",
   "execution_count": 4,
   "id": "eaadf58f-c2f7-4146-9f53-48528c4080d8",
   "metadata": {},
   "outputs": [],
   "source": [
    "# files"
   ]
  },
  {
   "cell_type": "code",
   "execution_count": 5,
   "id": "75adc2ab-d86e-4ab2-b0a7-65daf4d733cf",
   "metadata": {},
   "outputs": [],
   "source": [
    "##### file paths\n",
    "fidwi  = 'stanford_hardi/HARDI150.nii.gz'\n",
    "fbval  = 'stanford_hardi/HARDI150.bval'\n",
    "fbvec  = 'stanford_hardi/HARDI150.bvec'\n",
    "filab  = 'stanford_hardi/aparc-reduced.nii.gz'\n",
    "fit1w  = 'stanford_hardi/t1.nii.gz'"
   ]
  },
  {
   "cell_type": "code",
   "execution_count": 6,
   "id": "97195a85-9364-4806-bb32-ab9bdb8b5f2d",
   "metadata": {},
   "outputs": [],
   "source": [
    "data, affine, hardi_img = load_nifti(fidwi, return_img=True)\n",
    "labels = load_nifti_data(filab)\n",
    "bvals, bvecs = read_bvals_bvecs(fbval, fbvec)\n",
    "gtab = gradient_table(bvals, bvecs)\n",
    "\n",
    "t1_data = load_nifti_data(fit1w)"
   ]
  },
  {
   "cell_type": "code",
   "execution_count": 7,
   "id": "f7a45e05-0d67-4e3f-a9d1-24ee7cf4f99e",
   "metadata": {},
   "outputs": [],
   "source": [
    "white_matter = binary_dilation((labels == 1) | (labels == 2))\n",
    "csamodel = shm.CsaOdfModel(gtab, 6)\n",
    "csapeaks = peaks.peaks_from_model(model=csamodel, data=data,   sphere=peaks.default_sphere, relative_peak_threshold=.8, min_separation_angle=45, mask=white_matter)"
   ]
  },
  {
   "cell_type": "code",
   "execution_count": 9,
   "id": "db5f0e2e-4622-439c-83a7-b0d773e42d6b",
   "metadata": {},
   "outputs": [
    {
     "data": {
      "text/plain": [
       "(81, 106, 76)"
      ]
     },
     "execution_count": 9,
     "metadata": {},
     "output_type": "execute_result"
    }
   ],
   "source": [
    "white_matter.shape"
   ]
  },
  {
   "cell_type": "code",
   "execution_count": 10,
   "id": "faa8b19b-0956-4210-9b47-ccef95cc8ff1",
   "metadata": {},
   "outputs": [],
   "source": [
    "affine = np.eye(4)\n",
    "seeds = utils.seeds_from_mask(white_matter, affine, density=1)\n",
    "stopping_criterion = BinaryStoppingCriterion(white_matter)\n",
    "\n",
    "streamline_generator = LocalTracking(csapeaks, stopping_criterion, seeds,affine=affine, step_size=0.5)\n",
    "streamlines = Streamlines(streamline_generator)"
   ]
  },
  {
   "cell_type": "code",
   "execution_count": 29,
   "id": "08a89c6e-0cb0-456e-b4df-24814d3eea6a",
   "metadata": {},
   "outputs": [
    {
     "data": {
      "text/plain": [
       "ArraySequence([array([[ 6.56012737, 42.02806284, 29.76393953],\n",
       "       [ 7.        , 42.        , 30.        ],\n",
       "       [ 7.43987263, 41.97193716, 30.23606047]]), array([[ 6.58686628, 43.21410825, 29.81702956],\n",
       "       [ 7.        , 43.        , 30.        ],\n",
       "       [ 7.41313372, 42.78589175, 30.18297044]]), array([[ 7.07571096, 43.49145424, 29.94764947],\n",
       "       [ 7.        , 43.        , 30.        ],\n",
       "       [ 6.92428904, 42.50854576, 30.05235053]]), ..., array([[72.48054077, 55.10821475, 37.91415048],\n",
       "       [72.        , 55.        , 38.        ],\n",
       "       [71.51945923, 54.89178525, 38.08584952],\n",
       "       [71.08420371, 54.80155955, 38.31478609],\n",
       "       [70.70196121, 54.70760707, 38.62310995],\n",
       "       [70.33109661, 54.55687572, 38.92267548],\n",
       "       [69.99895749, 54.33644519, 39.22449328],\n",
       "       [69.70783638, 54.09108541, 39.54860295],\n",
       "       [69.31287898, 54.00442717, 39.84271008],\n",
       "       [68.86758026, 54.01353298, 40.06992392],\n",
       "       [68.4049071 , 53.97044147, 40.2545226 ],\n",
       "       [67.94675201, 53.85986789, 40.42145791],\n",
       "       [67.50260455, 53.72103171, 40.60437196],\n",
       "       [67.0641717 , 53.61035627, 40.81774389],\n",
       "       [66.64633927, 53.47542901, 41.05693147],\n",
       "       [66.23057475, 53.33943197, 41.29909809],\n",
       "       [65.77092829, 53.27683514, 41.48566379],\n",
       "       [65.29386576, 53.24028063, 41.6308365 ],\n",
       "       [64.81630831, 53.18694623, 41.76901872],\n",
       "       [64.34003785, 53.11791961, 41.90467186],\n",
       "       [63.86136922, 53.0279894 , 42.01775987],\n",
       "       [63.38075626, 52.9211198 , 42.10488089],\n",
       "       [62.90089114, 52.8103028 , 42.19118879],\n",
       "       [62.42119497, 52.69821078, 42.27678649],\n",
       "       [61.93973356, 52.58820598, 42.35484967],\n",
       "       [61.45488698, 52.48532333, 42.42072035],\n",
       "       [60.96849168, 52.37580199, 42.45846541]]), array([[71.67343486, 55.36508678, 37.8996663 ],\n",
       "       [72.        , 55.        , 38.        ],\n",
       "       [72.32656514, 54.63491322, 38.1003337 ]]), array([[72.45953951, 56.17192909, 37.90375125],\n",
       "       [72.        , 56.        , 38.        ],\n",
       "       [71.54046049, 55.82807091, 38.09624875],\n",
       "       [71.11715437, 55.63990343, 38.28441074],\n",
       "       [70.74017224, 55.45255592, 38.55419841],\n",
       "       [70.37442564, 55.27146093, 38.8430479 ],\n",
       "       [70.01660783, 55.08769054, 39.14002409],\n",
       "       [69.68245266, 54.89558498, 39.45851393],\n",
       "       [69.33158619, 54.70560042, 39.75984197],\n",
       "       [68.92122213, 54.56014681, 40.00569677],\n",
       "       [68.4677771 , 54.44134076, 40.17968735],\n",
       "       [68.01213498, 54.29844388, 40.32791267],\n",
       "       [67.55765774, 54.14234519, 40.46605621],\n",
       "       [67.09123369, 54.05435436, 40.62323833],\n",
       "       [66.61809802, 54.02540815, 40.78231302],\n",
       "       [66.14786122, 54.00053969, 40.95041689],\n",
       "       [65.68439308, 53.98300154, 41.13720472],\n",
       "       [65.2162882 , 53.9513792 , 41.31005683],\n",
       "       [64.74214845, 53.8976187 , 41.45939305],\n",
       "       [64.26657145, 53.8348405 , 41.6004087 ],\n",
       "       [63.79085345, 53.76688522, 41.73851903],\n",
       "       [63.31203517, 53.69547419, 41.86355311],\n",
       "       [62.8270672 , 53.62645259, 41.96376333],\n",
       "       [62.33848747, 53.55795548, 42.04499134],\n",
       "       [61.85001451, 53.48711482, 42.12483974],\n",
       "       [61.36185954, 53.41449131, 42.20503044]])])"
      ]
     },
     "execution_count": 29,
     "metadata": {},
     "output_type": "execute_result"
    }
   ],
   "source": [
    "streamlines"
   ]
  },
  {
   "cell_type": "code",
   "execution_count": 30,
   "id": "2202d9f1-e887-4da5-8c73-9237dacd1093",
   "metadata": {},
   "outputs": [
    {
     "ename": "KeyboardInterrupt",
     "evalue": "",
     "output_type": "error",
     "traceback": [
      "\u001b[0;31m---------------------------------------------------------------------------\u001b[0m",
      "\u001b[0;31mKeyboardInterrupt\u001b[0m                         Traceback (most recent call last)",
      "Cell \u001b[0;32mIn[30], line 5\u001b[0m\n\u001b[1;32m      3\u001b[0m \u001b[38;5;66;03m# cc_slice = labels == 2\u001b[39;00m\n\u001b[1;32m      4\u001b[0m cc_streamlines \u001b[38;5;241m=\u001b[39m utils\u001b[38;5;241m.\u001b[39mtarget(streamlines, affine, cc_slice)\n\u001b[0;32m----> 5\u001b[0m cc_streamlines \u001b[38;5;241m=\u001b[39m \u001b[43mStreamlines\u001b[49m\u001b[43m(\u001b[49m\u001b[43mcc_streamlines\u001b[49m\u001b[43m)\u001b[49m\n\u001b[1;32m      7\u001b[0m other_streamlines \u001b[38;5;241m=\u001b[39m utils\u001b[38;5;241m.\u001b[39mtarget(streamlines, affine, cc_slice, include\u001b[38;5;241m=\u001b[39m\u001b[38;5;28;01mFalse\u001b[39;00m)\n\u001b[1;32m      8\u001b[0m other_streamlines \u001b[38;5;241m=\u001b[39m Streamlines(other_streamlines)\n",
      "File \u001b[0;32m~/anaconda3/envs/dipy/lib/python3.11/site-packages/nibabel/streamlines/array_sequence.py:148\u001b[0m, in \u001b[0;36mArraySequence.__init__\u001b[0;34m(self, iterable, buffer_size)\u001b[0m\n\u001b[1;32m    145\u001b[0m     \u001b[38;5;28mself\u001b[39m\u001b[38;5;241m.\u001b[39m_is_view \u001b[38;5;241m=\u001b[39m \u001b[38;5;28;01mTrue\u001b[39;00m\n\u001b[1;32m    146\u001b[0m     \u001b[38;5;28;01mreturn\u001b[39;00m\n\u001b[0;32m--> 148\u001b[0m \u001b[38;5;28;43mself\u001b[39;49m\u001b[38;5;241;43m.\u001b[39;49m\u001b[43mextend\u001b[49m\u001b[43m(\u001b[49m\u001b[43miterable\u001b[49m\u001b[43m)\u001b[49m\n",
      "File \u001b[0;32m~/anaconda3/envs/dipy/lib/python3.11/site-packages/nibabel/streamlines/array_sequence.py:324\u001b[0m, in \u001b[0;36mArraySequence.extend\u001b[0;34m(self, elements)\u001b[0m\n\u001b[1;32m    321\u001b[0m     \u001b[38;5;28mself\u001b[39m\u001b[38;5;241m.\u001b[39m_build_cache \u001b[38;5;241m=\u001b[39m _BuildCache(\u001b[38;5;28mself\u001b[39m, e0\u001b[38;5;241m.\u001b[39mshape[\u001b[38;5;241m1\u001b[39m:], e0\u001b[38;5;241m.\u001b[39mdtype)\n\u001b[1;32m    322\u001b[0m     \u001b[38;5;28mself\u001b[39m\u001b[38;5;241m.\u001b[39m_resize_data_to(\u001b[38;5;28mself\u001b[39m\u001b[38;5;241m.\u001b[39m_get_next_offset() \u001b[38;5;241m+\u001b[39m n_elements, \u001b[38;5;28mself\u001b[39m\u001b[38;5;241m.\u001b[39m_build_cache)\n\u001b[0;32m--> 324\u001b[0m \u001b[38;5;28;01mfor\u001b[39;00m e \u001b[38;5;129;01min\u001b[39;00m elements:\n\u001b[1;32m    325\u001b[0m     \u001b[38;5;28mself\u001b[39m\u001b[38;5;241m.\u001b[39mappend(e, cache_build\u001b[38;5;241m=\u001b[39m\u001b[38;5;28;01mTrue\u001b[39;00m)\n\u001b[1;32m    327\u001b[0m \u001b[38;5;28mself\u001b[39m\u001b[38;5;241m.\u001b[39mfinalize_append()\n",
      "File \u001b[0;32m~/anaconda3/envs/dipy/lib/python3.11/site-packages/dipy/tracking/utils.py:612\u001b[0m, in \u001b[0;36mtarget\u001b[0;34m(streamlines, affine, target_mask, include)\u001b[0m\n\u001b[1;32m    610\u001b[0m \u001b[38;5;28;01mfor\u001b[39;00m sl \u001b[38;5;129;01min\u001b[39;00m streamlines:\n\u001b[1;32m    611\u001b[0m     \u001b[38;5;28;01mtry\u001b[39;00m:\n\u001b[0;32m--> 612\u001b[0m         ind \u001b[38;5;241m=\u001b[39m \u001b[43m_to_voxel_coordinates\u001b[49m\u001b[43m(\u001b[49m\u001b[43msl\u001b[49m\u001b[43m,\u001b[49m\u001b[43m \u001b[49m\u001b[43mlin_T\u001b[49m\u001b[43m,\u001b[49m\u001b[43m \u001b[49m\u001b[43moffset\u001b[49m\u001b[43m)\u001b[49m\n\u001b[1;32m    613\u001b[0m         i, j, k \u001b[38;5;241m=\u001b[39m ind\u001b[38;5;241m.\u001b[39mT\n\u001b[1;32m    614\u001b[0m         state \u001b[38;5;241m=\u001b[39m target_mask[i, j, k]\n",
      "File \u001b[0;32m~/anaconda3/envs/dipy/lib/python3.11/site-packages/dipy/tracking/_utils.py:47\u001b[0m, in \u001b[0;36m_to_voxel_coordinates\u001b[0;34m(streamline, lin_T, offset)\u001b[0m\n\u001b[1;32m     44\u001b[0m \u001b[38;5;28;01mdef\u001b[39;00m \u001b[38;5;21m_to_voxel_coordinates\u001b[39m(streamline, lin_T, offset):\n\u001b[1;32m     45\u001b[0m \u001b[38;5;250m    \u001b[39m\u001b[38;5;124;03m\"\"\"Applies a mapping from streamline coordinates to voxel_coordinates,\u001b[39;00m\n\u001b[1;32m     46\u001b[0m \u001b[38;5;124;03m    raises an error for negative voxel values.\"\"\"\u001b[39;00m\n\u001b[0;32m---> 47\u001b[0m     inds \u001b[38;5;241m=\u001b[39m \u001b[43mnp\u001b[49m\u001b[38;5;241;43m.\u001b[39;49m\u001b[43mdot\u001b[49m\u001b[43m(\u001b[49m\u001b[43mstreamline\u001b[49m\u001b[43m,\u001b[49m\u001b[43m \u001b[49m\u001b[43mlin_T\u001b[49m\u001b[43m)\u001b[49m\n\u001b[1;32m     48\u001b[0m     inds \u001b[38;5;241m+\u001b[39m\u001b[38;5;241m=\u001b[39m offset\n\u001b[1;32m     49\u001b[0m     \u001b[38;5;28;01mif\u001b[39;00m inds\u001b[38;5;241m.\u001b[39mmin()\u001b[38;5;241m.\u001b[39mround(decimals\u001b[38;5;241m=\u001b[39m\u001b[38;5;241m6\u001b[39m) \u001b[38;5;241m<\u001b[39m \u001b[38;5;241m0\u001b[39m:\n",
      "File \u001b[0;32m<__array_function__ internals>:200\u001b[0m, in \u001b[0;36mdot\u001b[0;34m(*args, **kwargs)\u001b[0m\n",
      "\u001b[0;31mKeyboardInterrupt\u001b[0m: "
     ]
    }
   ],
   "source": [
    "cc_slice = labels == 1\n",
    "\n",
    "# cc_slice = labels == 2\n",
    "cc_streamlines = utils.target(streamlines, affine, cc_slice)\n",
    "cc_streamlines = Streamlines(cc_streamlines)\n",
    "\n",
    "other_streamlines = utils.target(streamlines, affine, cc_slice, include=False)\n",
    "other_streamlines = Streamlines(other_streamlines)\n",
    "assert len(other_streamlines) + len(cc_streamlines) == len(streamlines)"
   ]
  },
  {
   "cell_type": "code",
   "execution_count": 15,
   "id": "7751185d-d92f-4937-9b27-710c76211641",
   "metadata": {},
   "outputs": [],
   "source": [
    "interactive = True"
   ]
  },
  {
   "cell_type": "code",
   "execution_count": 28,
   "id": "5adaaf57-1df5-4260-8c39-fd517a11a683",
   "metadata": {},
   "outputs": [
    {
     "data": {
      "text/plain": [
       "ArraySequence([array([[ 6.56012737, 42.02806284, 29.76393953],\n",
       "       [ 7.        , 42.        , 30.        ],\n",
       "       [ 7.43987263, 41.97193716, 30.23606047]]), array([[ 6.58686628, 43.21410825, 29.81702956],\n",
       "       [ 7.        , 43.        , 30.        ],\n",
       "       [ 7.41313372, 42.78589175, 30.18297044]]), array([[ 7.07571096, 43.49145424, 29.94764947],\n",
       "       [ 7.        , 43.        , 30.        ],\n",
       "       [ 6.92428904, 42.50854576, 30.05235053]]), ..., array([[71.83809418, 50.47106558, 27.95659808],\n",
       "       [72.        , 50.        , 28.        ],\n",
       "       [72.16190582, 49.52893442, 28.04340192],\n",
       "       [72.23406881, 49.03749771, 27.98610912],\n",
       "       [72.2062642 , 48.56406093, 27.8277282 ],\n",
       "       [72.19403096, 48.08567828, 27.68281309],\n",
       "       [72.20688317, 47.60093729, 27.56090742]]), array([[71.89902413, 50.48915127, 31.97687197],\n",
       "       [72.        , 50.        , 32.        ],\n",
       "       [72.10097587, 49.51084873, 32.02312803],\n",
       "       [72.17628184, 49.01666954, 32.03389575],\n",
       "       [72.2272772 , 48.5192781 , 32.03500374]]), array([[71.67343486, 55.36508678, 37.8996663 ],\n",
       "       [72.        , 55.        , 38.        ],\n",
       "       [72.32656514, 54.63491322, 38.1003337 ]])])"
      ]
     },
     "execution_count": 28,
     "metadata": {},
     "output_type": "execute_result"
    }
   ],
   "source": [
    "other_streamlines"
   ]
  },
  {
   "cell_type": "code",
   "execution_count": 16,
   "id": "702aaa1f-b901-4713-a7c2-6a79d789f1d6",
   "metadata": {},
   "outputs": [],
   "source": [
    "# from dipy.viz import window, actor, colormap as cmap\n",
    "\n",
    "# # Enables/disables interactive visualization\n",
    "# # interactive = False\n",
    "\n",
    "# # Make display objects\n",
    "# color = cmap.line_colors(cc_streamlines)\n",
    "# cc_streamlines_actor = actor.line(cc_streamlines,  cmap.line_colors(cc_streamlines))\n",
    "# cc_ROI_actor = actor.contour_from_roi(cc_slice, color=(1., 1., 0.), opacity=0.5)\n",
    "\n",
    "# # vol_actor = actor.slicer(t1_data)\n",
    "\n",
    "# # vol_actor.display(x=40)\n",
    "# # vol_actor2 = vol_actor.copy()\n",
    "# # vol_actor2.display(z=35)\n",
    "\n",
    "# # Add display objects to canvas\n",
    "# scene = window.Scene()\n",
    "# # scene.add(vol_actor)\n",
    "# # scene.add(vol_actor2)\n",
    "# scene.add(cc_streamlines_actor)\n",
    "# scene.add(cc_ROI_actor)\n",
    "\n",
    "# # Save figures\n",
    "# # window.record(scene, n_frames=1, out_path='corpuscallosum_axial.png', size=(800, 800))\n",
    "\n",
    "# # if interactive:\n",
    "# #     window.show(scene)\n",
    "# scene.set_camera(position=[-1, 0, 0], focal_point=[0, 0, 0], view_up=[0, 0, 1])\n",
    "# # window.record(scene, n_frames=1, out_path='corpuscallosum_sagittal.png', size=(800, 800))\n",
    "# # if interactive:\n",
    "# #     window.show(scene)\n",
    "# window.show(scene)"
   ]
  },
  {
   "cell_type": "code",
   "execution_count": 17,
   "id": "be6f237e-25e3-4fc6-bc8e-0eac498a9811",
   "metadata": {},
   "outputs": [],
   "source": [
    "M, grouping = utils.connectivity_matrix(cc_streamlines, affine,labels.astype(np.uint8), return_mapping=True, mapping_as_streamlines=True)"
   ]
  },
  {
   "cell_type": "code",
   "execution_count": 18,
   "id": "a126eb47-3b68-494c-aaf7-c65c6491df1a",
   "metadata": {},
   "outputs": [
    {
     "data": {
      "text/plain": [
       "(89, 89)"
      ]
     },
     "execution_count": 18,
     "metadata": {},
     "output_type": "execute_result"
    }
   ],
   "source": [
    "M.shape"
   ]
  },
  {
   "cell_type": "code",
   "execution_count": 19,
   "id": "5a287926-cadd-42ee-8f35-c8dd5a1f6172",
   "metadata": {},
   "outputs": [
    {
     "data": {
      "text/plain": [
       "<matplotlib.image.AxesImage at 0x7f69c6d19b90>"
      ]
     },
     "execution_count": 19,
     "metadata": {},
     "output_type": "execute_result"
    },
    {
     "data": {
      "image/png": "[encoded data removed]",
      "text/plain": [
       "<Figure size 640x480 with 1 Axes>"
      ]
     },
     "metadata": {},
     "output_type": "display_data"
    }
   ],
   "source": [
    "import numpy as np\n",
    "import matplotlib.pyplot as plt\n",
    "\n",
    "plt.imshow(np.log1p(M), interpolation='nearest') "
   ]
  },
  {
   "cell_type": "code",
   "execution_count": 20,
   "id": "eea5412a-4dfd-4462-9b2e-895a3676bf86",
   "metadata": {},
   "outputs": [],
   "source": [
    "##### the first 3 rows and colums are L WM , R WM and white matter intensities so we remove them.\n",
    "\n",
    "M_copy = M.copy()"
   ]
  },
  {
   "cell_type": "code",
   "execution_count": 21,
   "id": "6b6e7417-817f-4750-9ea8-67c8b12b43f7",
   "metadata": {},
   "outputs": [],
   "source": [
    "M_copy[:3, :] = 0\n",
    "M_copy[:, :3] = 0"
   ]
  },
  {
   "cell_type": "code",
   "execution_count": 22,
   "id": "69ff64ca-6481-43e5-87bb-d2e20cb733e4",
   "metadata": {},
   "outputs": [
    {
     "data": {
      "text/plain": [
       "<matplotlib.image.AxesImage at 0x7f69c3f003d0>"
      ]
     },
     "execution_count": 22,
     "metadata": {},
     "output_type": "execute_result"
    },
    {
     "data": {
      "image/png": "[encoded data removed]",
      "text/plain": [
       "<Figure size 640x480 with 1 Axes>"
      ]
     },
     "metadata": {},
     "output_type": "display_data"
    }
   ],
   "source": [
    "import numpy as np\n",
    "import matplotlib.pyplot as plt\n",
    "\n",
    "plt.imshow(np.log1p(M_copy), interpolation='nearest') "
   ]
  },
  {
   "cell_type": "code",
   "execution_count": 15,
   "id": "2a20a4ab-81c2-4fb6-8f86-981f680c5c98",
   "metadata": {},
   "outputs": [],
   "source": [
    "np.save('connectivity_M_log.npy',np.log1p(M_copy) )"
   ]
  },
  {
   "cell_type": "code",
   "execution_count": 16,
   "id": "c09a1a14-c3ee-4c26-abbe-5a0798875fd3",
   "metadata": {},
   "outputs": [],
   "source": [
    "import pandas as pd"
   ]
  },
  {
   "cell_type": "code",
   "execution_count": 17,
   "id": "35bf9796-781e-4169-bc0d-69cbb259e008",
   "metadata": {},
   "outputs": [],
   "source": [
    "Mdf = DF = pd.DataFrame(np.log1p(M_copy))"
   ]
  },
  {
   "cell_type": "code",
   "execution_count": 19,
   "id": "828f8782-e28a-4a06-b0bc-efdc0044b823",
   "metadata": {},
   "outputs": [],
   "source": [
    "Mdf.to_csv('M_connectivity.csv', header=False, index=False)"
   ]
  },
  {
   "cell_type": "code",
   "execution_count": null,
   "id": "c989209e-4477-4163-a5d3-39cd20069932",
   "metadata": {},
   "outputs": [],
   "source": [
    "########################################################################"
   ]
  },
  {
   "cell_type": "code",
   "execution_count": 39,
   "id": "6b16c18b-6ea1-4c83-963f-5a1d5d49265b",
   "metadata": {},
   "outputs": [],
   "source": [
    "lr_superiorfrontal_track = grouping[11, 54]\n",
    "shape = labels.shape\n",
    "dm = utils.density_map(lr_superiorfrontal_track, affine, shape)"
   ]
  },
  {
   "cell_type": "code",
   "execution_count": 40,
   "id": "0b837cbd-02e7-4d23-9242-a3ff4f493354",
   "metadata": {},
   "outputs": [],
   "source": [
    "from dipy.io.stateful_tractogram import Space, StatefulTractogram\n",
    "from dipy.io.streamline import save_trk"
   ]
  },
  {
   "cell_type": "code",
   "execution_count": 41,
   "id": "759cdf0d-d70a-47b1-9854-cbae2efa1e8c",
   "metadata": {},
   "outputs": [],
   "source": [
    "# Save density map\n",
    "save_nifti(\"lr-superiorfrontal-dm.nii.gz\", dm.astype(\"int16\"), affine)\n",
    "\n",
    "lr_sf_trk = Streamlines(lr_superiorfrontal_track)\n",
    "\n",
    "# Save streamlines\n",
    "sft = StatefulTractogram(lr_sf_trk, hardi_img, Space.VOX)\n",
    "save_trk(sft, \"lr-superiorfrontal.trk\")"
   ]
  },
  {
   "cell_type": "code",
   "execution_count": 42,
   "id": "8d0ff6c2-cc33-4c47-86b9-fec69a9c33a8",
   "metadata": {},
   "outputs": [],
   "source": [
    "############## path length - continues after cell #5"
   ]
  },
  {
   "cell_type": "code",
   "execution_count": 45,
   "id": "ae0bf2eb-8d05-410a-9d63-f0700bbe0ae0",
   "metadata": {},
   "outputs": [],
   "source": [
    "# # Make a corpus callosum seed mask for tracking\n",
    "# seed_mask = labels == 1\n",
    "# seeds = utils.seeds_from_mask(seed_mask, affine, density=[1, 1, 1])\n",
    "\n",
    "# # Make a streamline bundle model of the corpus callosum ROI connectivity\n",
    "# streamlines = LocalTracking(csa_peaks, stopping_criterion, seeds, affine,step_size=2)\n",
    "# streamlines = Streamlines(streamlines)"
   ]
  },
  {
   "cell_type": "code",
   "execution_count": null,
   "id": "ab56c349-3693-4496-8d73-983fc2d697af",
   "metadata": {},
   "outputs": [],
   "source": []
  }
 ],
 "metadata": {
  "kernelspec": {
   "display_name": "Python 3 (ipykernel)",
   "language": "python",
   "name": "python3"
  },
  "language_info": {
   "codemirror_mode": {
    "name": "ipython",
    "version": 3
   },
   "file_extension": ".py",
   "mimetype": "text/x-python",
   "name": "python",
   "nbconvert_exporter": "python",
   "pygments_lexer": "ipython3",
   "version": "3.11.3"
  }
 },
 "nbformat": 4,
 "nbformat_minor": 5
}
